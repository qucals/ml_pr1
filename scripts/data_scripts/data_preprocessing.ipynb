{
 "cells": [
  {
   "cell_type": "code",
   "execution_count": 1,
   "id": "3cf68210-8e92-4678-b4c2-baff832cae29",
   "metadata": {},
   "outputs": [],
   "source": [
    "import pandas as pd"
   ]
  },
  {
   "cell_type": "code",
   "execution_count": 2,
   "id": "a4b82cd5-4723-46b1-840e-578e039428dd",
   "metadata": {},
   "outputs": [],
   "source": [
    "train = pd.read_csv(\"../../data/raw/train.csv\", index_col=0)\n",
    "test = pd.read_csv(\"../../data/raw/test.csv\", index_col=0)"
   ]
  },
  {
   "cell_type": "code",
   "execution_count": 4,
   "id": "4fa69ecd-81cc-4981-8a9d-d43eaa92cda6",
   "metadata": {},
   "outputs": [],
   "source": [
    "train['Sex'] = train['Sex'].replace({'male':1, 'female':0})\n",
    "test['Sex'] = test['Sex'].replace({'male':1, 'female':0})\n",
    "\n",
    "train['Age'].fillna(train['Age'].mean(), inplace=True)\n",
    "test['Age'].fillna(test['Age'].mean(), inplace=True)"
   ]
  },
  {
   "cell_type": "code",
   "execution_count": 6,
   "id": "150bf94f-dacb-45a6-9cf2-93ec4b12d7e7",
   "metadata": {},
   "outputs": [],
   "source": [
    "features_list = ['Pclass', 'Sex', 'SibSp', 'Parch']"
   ]
  },
  {
   "cell_type": "code",
   "execution_count": 8,
   "id": "3f06ddbe-d583-42ff-8691-3ae69f10e172",
   "metadata": {},
   "outputs": [],
   "source": [
    "train[features_list].to_csv(\"../../data/baselines/train.csv\", columns=features_list)"
   ]
  },
  {
   "cell_type": "code",
   "execution_count": 9,
   "id": "5330a8ca-df12-40e5-9657-5714791c8a7c",
   "metadata": {},
   "outputs": [],
   "source": [
    "test[features_list].to_csv(\"../../data/baselines/test.csv\", columns=features_list)"
   ]
  },
  {
   "cell_type": "code",
   "execution_count": null,
   "id": "91d047e2-4fbc-4873-8030-11ae78ae19a4",
   "metadata": {},
   "outputs": [],
   "source": []
  }
 ],
 "metadata": {
  "kernelspec": {
   "display_name": "Python 3 (ipykernel)",
   "language": "python",
   "name": "python3"
  },
  "language_info": {
   "codemirror_mode": {
    "name": "ipython",
    "version": 3
   },
   "file_extension": ".py",
   "mimetype": "text/x-python",
   "name": "python",
   "nbconvert_exporter": "python",
   "pygments_lexer": "ipython3",
   "version": "3.11.6"
  }
 },
 "nbformat": 4,
 "nbformat_minor": 5
}
